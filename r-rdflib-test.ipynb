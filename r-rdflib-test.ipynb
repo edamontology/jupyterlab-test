{
 "cells": [
  {
   "cell_type": "code",
   "execution_count": 11,
   "id": "20e2ebb6-672f-4162-ad52-6792a5e4641c",
   "metadata": {},
   "outputs": [
    {
     "name": "stderr",
     "output_type": "stream",
     "text": [
      "also installing the dependencies ‘desc’, ‘pkgload’, ‘remotes’\n",
      "\n",
      "\n",
      "Updating HTML index of packages in '.Library'\n",
      "\n",
      "Making 'packages.html' ...\n",
      " done\n",
      "\n"
     ]
    }
   ],
   "source": [
    "install.packages(\"devtools\")"
   ]
  },
  {
   "cell_type": "code",
   "execution_count": null,
   "id": "db35dfbc-6e14-4776-bb24-e354bf383071",
   "metadata": {},
   "outputs": [
    {
     "name": "stderr",
     "output_type": "stream",
     "text": [
      "Downloading GitHub repo ropensci/rdflib@HEAD\n",
      "\n"
     ]
    },
    {
     "name": "stdout",
     "output_type": "stream",
     "text": [
      "utf8       (1.1.4 -> 1.2.2    ) [CRAN]\n",
      "fansi      (0.4.2 -> 0.5.0    ) [CRAN]\n",
      "tidyselect (1.1.0 -> 1.1.1    ) [CRAN]\n",
      "tibble     (3.1.0 -> 3.1.3    ) [CRAN]\n",
      "cpp11      (0.2.6 -> 0.3.1    ) [CRAN]\n",
      "withr      (2.4.1 -> 2.4.2    ) [CRAN]\n",
      "tzdb       (NA    -> 0.1.2    ) [CRAN]\n",
      "hms        (1.0.0 -> 1.1.0    ) [CRAN]\n",
      "curl       (4.3   -> 4.3.2    ) [CRAN]\n",
      "Rcpp       (1.0.6 -> 1.0.7    ) [CRAN]\n",
      "mime       (0.10  -> 0.11     ) [CRAN]\n",
      "xfun       (0.20  -> 0.25     ) [CRAN]\n",
      "highr      (0.8   -> 0.9      ) [CRAN]\n",
      "stringi    (1.5.3 -> 1.7.3    ) [CRAN]\n",
      "knitr      (1.31  -> 1.33     ) [CRAN]\n",
      "vroom      (NA    -> 1.5.4    ) [CRAN]\n",
      "V8         (NA    -> 3.4.2    ) [CRAN]\n",
      "readr      (1.4.0 -> 2.0.1    ) [CRAN]\n",
      "jsonld     (NA    -> 2.2      ) [CRAN]\n",
      "redland    (NA    -> 1.0.17-14) [CRAN]\n"
     ]
    },
    {
     "name": "stderr",
     "output_type": "stream",
     "text": [
      "Installing 20 packages: utf8, fansi, tidyselect, tibble, cpp11, withr, tzdb, hms, curl, Rcpp, mime, xfun, highr, stringi, knitr, vroom, V8, readr, jsonld, redland\n",
      "\n"
     ]
    }
   ],
   "source": [
    "devtools::install_github(\"ropensci/rdflib\")"
   ]
  },
  {
   "cell_type": "code",
   "execution_count": null,
   "id": "658f484f-8b00-459c-84bd-c07f899f6208",
   "metadata": {},
   "outputs": [],
   "source": [
    "library(rdflib)"
   ]
  }
 ],
 "metadata": {
  "kernelspec": {
   "display_name": "R",
   "language": "R",
   "name": "ir"
  },
  "language_info": {
   "codemirror_mode": "r",
   "file_extension": ".r",
   "mimetype": "text/x-r-source",
   "name": "R",
   "pygments_lexer": "r",
   "version": "4.0.3"
  }
 },
 "nbformat": 4,
 "nbformat_minor": 5
}
