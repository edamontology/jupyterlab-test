{
 "cells": [
  {
   "cell_type": "code",
   "execution_count": 11,
   "id": "20e2ebb6-672f-4162-ad52-6792a5e4641c",
   "metadata": {},
   "outputs": [
    {
     "name": "stderr",
     "output_type": "stream",
     "text": [
      "also installing the dependencies ‘desc’, ‘pkgload’, ‘remotes’\n",
      "\n",
      "\n",
      "Updating HTML index of packages in '.Library'\n",
      "\n",
      "Making 'packages.html' ...\n",
      " done\n",
      "\n"
     ]
    }
   ],
   "source": [
    "install.packages(\"devtools\")"
   ]
  },
  {
   "cell_type": "code",
   "execution_count": 12,
   "id": "db35dfbc-6e14-4776-bb24-e354bf383071",
   "metadata": {},
   "outputs": [
    {
     "name": "stderr",
     "output_type": "stream",
     "text": [
      "Downloading GitHub repo ropensci/rdflib@HEAD\n",
      "\n"
     ]
    },
    {
     "name": "stdout",
     "output_type": "stream",
     "text": [
      "utf8       (1.1.4 -> 1.2.2    ) [CRAN]\n",
      "fansi      (0.4.2 -> 0.5.0    ) [CRAN]\n",
      "tidyselect (1.1.0 -> 1.1.1    ) [CRAN]\n",
      "tibble     (3.1.0 -> 3.1.3    ) [CRAN]\n",
      "cpp11      (0.2.6 -> 0.3.1    ) [CRAN]\n",
      "withr      (2.4.1 -> 2.4.2    ) [CRAN]\n",
      "tzdb       (NA    -> 0.1.2    ) [CRAN]\n",
      "hms        (1.0.0 -> 1.1.0    ) [CRAN]\n",
      "curl       (4.3   -> 4.3.2    ) [CRAN]\n",
      "Rcpp       (1.0.6 -> 1.0.7    ) [CRAN]\n",
      "mime       (0.10  -> 0.11     ) [CRAN]\n",
      "xfun       (0.20  -> 0.25     ) [CRAN]\n",
      "highr      (0.8   -> 0.9      ) [CRAN]\n",
      "stringi    (1.5.3 -> 1.7.3    ) [CRAN]\n",
      "knitr      (1.31  -> 1.33     ) [CRAN]\n",
      "vroom      (NA    -> 1.5.4    ) [CRAN]\n",
      "V8         (NA    -> 3.4.2    ) [CRAN]\n",
      "readr      (1.4.0 -> 2.0.1    ) [CRAN]\n",
      "jsonld     (NA    -> 2.2      ) [CRAN]\n",
      "redland    (NA    -> 1.0.17-14) [CRAN]\n"
     ]
    },
    {
     "name": "stderr",
     "output_type": "stream",
     "text": [
      "Installing 20 packages: utf8, fansi, tidyselect, tibble, cpp11, withr, tzdb, hms, curl, Rcpp, mime, xfun, highr, stringi, knitr, vroom, V8, readr, jsonld, redland\n",
      "\n",
      "Warning message in i.p(...):\n",
      "“installation of package ‘redland’ had non-zero exit status”\n",
      "Warning message in i.p(...):\n",
      "“installation of package ‘V8’ had non-zero exit status”\n",
      "Warning message in i.p(...):\n",
      "“installation of package ‘jsonld’ had non-zero exit status”\n",
      "Updating HTML index of packages in '.Library'\n",
      "\n",
      "Making 'packages.html' ...\n",
      " done\n",
      "\n"
     ]
    },
    {
     "name": "stdout",
     "output_type": "stream",
     "text": [
      "\u001b[32m✔\u001b[39m  \u001b[90mchecking for file ‘/data/dnb03/galaxy_db/job_working_directory/027/183/27183478/tmp/RtmpuFwfZY/remotesf8a3cfe46db/ropensci-rdflib-afe6161/DESCRIPTION’\u001b[39m\u001b[36m\u001b[36m (411ms)\u001b[36m\u001b[39m\n",
      "\u001b[90m─\u001b[39m\u001b[90m  \u001b[39m\u001b[90mpreparing ‘rdflib’:\u001b[39m\u001b[36m\u001b[36m (2.4s)\u001b[36m\u001b[39m\n",
      "\u001b[32m✔\u001b[39m  \u001b[90mchecking DESCRIPTION meta-information\u001b[39m\u001b[36m\u001b[39m\n",
      "\u001b[90m─\u001b[39m\u001b[90m  \u001b[39m\u001b[90mchecking for LF line-endings in source and make files and shell scripts\u001b[39m\u001b[36m\u001b[36m (1.2s)\u001b[36m\u001b[39m\n",
      "\u001b[90m─\u001b[39m\u001b[90m  \u001b[39m\u001b[90mchecking for empty or unneeded directories\u001b[39m\u001b[36m\u001b[39m\n",
      "   Removed empty directory ‘rdflib/manuscripts’\n",
      "\u001b[90m─\u001b[39m\u001b[90m  \u001b[39m\u001b[90mbuilding ‘rdflib_0.2.3.tar.gz’\u001b[39m\u001b[36m\u001b[39m\n",
      "   \n",
      "\r"
     ]
    },
    {
     "name": "stderr",
     "output_type": "stream",
     "text": [
      "Warning message in i.p(...):\n",
      "“installation of package ‘/data/dnb03/galaxy_db/job_working_directory/027/183/27183478/tmp/RtmpuFwfZY/filef8a288f3650/rdflib_0.2.3.tar.gz’ had non-zero exit status”\n"
     ]
    }
   ],
   "source": [
    "devtools::install_github(\"ropensci/rdflib\")"
   ]
  },
  {
   "cell_type": "code",
   "execution_count": 13,
   "id": "2e98ad35-b654-4507-ab5f-5ec42cb48157",
   "metadata": {},
   "outputs": [
    {
     "name": "stderr",
     "output_type": "stream",
     "text": [
      "Warning message in install.packages(\"redland\"):\n",
      "“installation of package ‘redland’ had non-zero exit status”\n",
      "Updating HTML index of packages in '.Library'\n",
      "\n",
      "Making 'packages.html' ...\n",
      " done\n",
      "\n"
     ]
    }
   ],
   "source": [
    "install.packages(\"redland\")"
   ]
  },
  {
   "cell_type": "code",
   "execution_count": 14,
   "id": "2e9ea24d-7e48-4cba-b53b-2b1528c31580",
   "metadata": {},
   "outputs": [
    {
     "name": "stderr",
     "output_type": "stream",
     "text": [
      "Updating HTML index of packages in '.Library'\n",
      "\n",
      "Making 'packages.html' ...\n",
      " done\n",
      "\n"
     ]
    }
   ],
   "source": [
    "install.packages(\"magrittr\")"
   ]
  },
  {
   "cell_type": "code",
   "execution_count": 15,
   "id": "658f484f-8b00-459c-84bd-c07f899f6208",
   "metadata": {
    "tags": []
   },
   "outputs": [
    {
     "ename": "ERROR",
     "evalue": "Error in library(rdflib): there is no package called ‘rdflib’\n",
     "output_type": "error",
     "traceback": [
      "Error in library(rdflib): there is no package called ‘rdflib’\nTraceback:\n",
      "1. library(rdflib)"
     ]
    }
   ],
   "source": [
    "library(rdflib)\n",
    "library(magrittr)"
   ]
  },
  {
   "cell_type": "code",
   "execution_count": 16,
   "id": "02580a54-89b6-4018-acc2-0c9e7d856186",
   "metadata": {},
   "outputs": [
    {
     "ename": "ERROR",
     "evalue": "Error in rdf_serialize(., \"test.nquads\", \"nquads\"): could not find function \"rdf_serialize\"\n",
     "output_type": "error",
     "traceback": [
      "Error in rdf_serialize(., \"test.nquads\", \"nquads\"): could not find function \"rdf_serialize\"\nTraceback:\n",
      "1. system.file(\"EDAM_geo_dev.owl\", package = \"redland\") %>% rdf_parse() %>% \n .     rdf_serialize(\"test.nquads\", \"nquads\")"
     ]
    }
   ],
   "source": [
    "system.file(\"EDAM_geo_dev.owl\", package=\"redland\") %>%\n",
    "  rdf_parse() %>%\n",
    "  rdf_serialize(\"test.nquads\", \"nquads\")"
   ]
  }
 ],
 "metadata": {
  "kernelspec": {
   "display_name": "R",
   "language": "R",
   "name": "ir"
  },
  "language_info": {
   "codemirror_mode": "r",
   "file_extension": ".r",
   "mimetype": "text/x-r-source",
   "name": "R",
   "pygments_lexer": "r",
   "version": "4.0.3"
  }
 },
 "nbformat": 4,
 "nbformat_minor": 5
}
